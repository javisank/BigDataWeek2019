{
 "cells": [
  {
   "cell_type": "markdown",
   "metadata": {},
   "source": [
    "<a href=\"https://colab.research.google.com/github/BotiaAI/BigDataWeek2019/blob/master/Botia_Apple_stock_ejercicio.ipynb\" target=\"_parent\"><img src=\"https://colab.research.google.com/assets/colab-badge.svg\" alt=\"Open In Colab\"/></a>"
   ]
  },
  {
   "cell_type": "markdown",
   "metadata": {
    "colab_type": "text",
    "id": "JcnNGkW2mkfN"
   },
   "source": [
    "# Workshop Deep Learning: RNN y LSTM\n",
    "\n",
    "A continuación se encuentra un ejemplo práctico del uso de Deep Learning, utilizando Keras y Tensorflow.\n",
    "\n",
    "---\n"
   ]
  },
  {
   "cell_type": "markdown",
   "metadata": {
    "colab_type": "text",
    "id": "gnv6Jj9WoIPj"
   },
   "source": [
    "## Predicción de series ordenadas en el tiempo\n",
    "\n",
    "En este proyecto se hará una predicción de una serie ordenada en el tiempo usando un regresor RNN (Recurrent Neural Network regressor).\n",
    "\n",
    "Se hará una predicción del precio de la acción de Apple con 7 días de anticipación, en base a una serie histórica.\n",
    "\n",
    "Se hará uso de una arquitectura para el RNN conocida como [Long Term Short Memory (LTSM)](https://en.wikipedia.org/wiki/Long_short-term_memory), que ayuda a evitar problemas técnicos con la optimización de RNNs."
   ]
  },
  {
   "cell_type": "markdown",
   "metadata": {
    "colab_type": "text",
    "id": "vbDklWx_tvVz"
   },
   "source": [
    "### Parte 1: Primeros pasos\n",
    "Primero se debe cargar una serie histórica. Cargaremos una serie con el precio de la acción de Apple de 140 días. Luego se hará un pre-procesamiento para utilizar la información con un modelo de una RNN. Como primer paso se normalizó el rango la serie. Esto ayuda a evitar grandes problemas numéricos asociados a como las funciones de activación como tanh transforman números muy grandes (sean positivos o negativos) y ayuda a evitar problemas con el cálculo de las derivadas.\n",
    "\n",
    "Se normaliza la serie para que pertenezca al rango [-1,1] [usando esta función de la librería scikit](https://scikit-learn.org/stable/modules/generated/sklearn.preprocessing.MinMaxScaler.html). También es común ver aplicaciones donde se normaliza utilizando la desviación estándar.\n"
   ]
  },
  {
   "cell_type": "code",
   "execution_count": 0,
   "metadata": {
    "colab": {},
    "colab_type": "code",
    "collapsed": true,
    "id": "45EDLqTnRbuI"
   },
   "outputs": [],
   "source": [
    "### Cargar las librerías necesarias para el cargado de los datos y la normalización\n",
    "%matplotlib inline\n",
    "import numpy as np\n",
    "import matplotlib.pyplot as plt\n",
    "\n",
    "\n",
    "# Clonar repositorio con los datos en espacio de trabajo\n",
    "! git clone https://bitbucket.org/botiaio/applestockdata.git"
   ]
  },
  {
   "cell_type": "code",
   "execution_count": 0,
   "metadata": {
    "colab": {},
    "colab_type": "code",
    "collapsed": true,
    "id": "nreN3_fWw2b9"
   },
   "outputs": [],
   "source": [
    "### Cargar los datos normalizados\n",
    "dataset = np.loadtxt('applestockdata/normalized_apple_prices.csv')"
   ]
  },
  {
   "cell_type": "markdown",
   "metadata": {
    "colab_type": "text",
    "id": "-hJpnnBfzcKF"
   },
   "source": [
    "Observemos los datos cargados"
   ]
  },
  {
   "cell_type": "code",
   "execution_count": 0,
   "metadata": {
    "colab": {},
    "colab_type": "code",
    "collapsed": true,
    "id": "Y7ipXvoIyZRt"
   },
   "outputs": [],
   "source": [
    "#Grafiquemos los datos\n",
    "plt.plot(dataset)\n",
    "plt.xlabel('periodo de tiempo')\n",
    "plt.ylabel('serie normalizada')"
   ]
  },
  {
   "cell_type": "markdown",
   "metadata": {
    "colab_type": "text",
    "id": "IuD7SivS0bMn"
   },
   "source": [
    "### Parte 2: Cortar la serie ordenada en secuencias\n",
    "\n",
    "Generalmente se representa matemáticamente una serie ordenada como:\n",
    "\n",
    "$$s_{0},s_{1},s_{2},...,s_{P}$$\n",
    "\n",
    "\n",
    "donde $s_{p}$ es el valor numérico de la serie en el intervalo de tiempo $p$ , siendo  $P$ el largo total de la serie. Para aplicar el RNN se debe tratar a la predicción como un problema de regresión. Para ello se debe usar una ventana móvil para construir un set asociado de pares de entrada-salida sobre los cuales aplicar la regresión.\n",
    "\n",
    "Por ejemplo, para una ventana de tamaño T = 3 se deben producir los siguientes pares:\n",
    "\n",
    "$$\\begin{array}{c|c}\n",
    "\\text{Input} & \\text{Output}\\\\\n",
    "\\hline \\color{CornflowerBlue} {\\langle s_{1},s_{2},s_{3}\\rangle} & \\color{Goldenrod}{ s_{4}} \\\\\n",
    "\\ \\color{CornflowerBlue} {\\langle s_{2},s_{3},s_{4} \\rangle } & \\color{Goldenrod} {s_{5} } \\\\\n",
    "\\color{CornflowerBlue}  {\\vdots} & \\color{Goldenrod} {\\vdots}\\\\\n",
    "\\color{CornflowerBlue} { \\langle s_{P-3},s_{P-2},s_{P-1} \\rangle } & \\color{Goldenrod} {s_{P}}\n",
    "\\end{array}$$\n",
    "\n",
    "\n",
    "####Ventana móvil\n",
    "Completar la función llamada **window_transform_series** que ejecuta una ventana móvil a lo largo de una serie de datos y crea los pares de input y output necesarios para el entrenamiento.\n",
    "\n",
    "La función recibe la serie de datos y el tamaño de la ventana (3 en el ejemplo de arriba). Se debe retornar un numpy array."
   ]
  },
  {
   "cell_type": "code",
   "execution_count": 0,
   "metadata": {
    "colab": {},
    "colab_type": "code",
    "collapsed": true,
    "id": "HYQ400ZvxkDS"
   },
   "outputs": [],
   "source": [
    "### @TODO: completar la función debajo que transforma los datos en los pares input-output necesarios dado el tamaño de la ventana\n",
    "def window_transform_series(series,window_size):\n",
    "    # variables para los pares input-output\n",
    "    X = []\n",
    "    y = []\n",
    "    \n",
    "    ### Se recomienda usar un for dentro de otro for aquí\n",
    "    \n",
    "        \n",
    "    # Defino el shape necesario\n",
    "    X = np.asarray(X)\n",
    "    X.shape = (np.shape(X)[0:2])\n",
    "    y = np.asarray(y)\n",
    "    y.shape = (len(y),1)\n",
    "    \n",
    "    return X,y"
   ]
  },
  {
   "cell_type": "markdown",
   "metadata": {
    "colab_type": "text",
    "id": "Ko2NEdo-5qTg"
   },
   "source": [
    "Se puede probar la función con los datos de debajo:"
   ]
  },
  {
   "cell_type": "code",
   "execution_count": 0,
   "metadata": {
    "colab": {},
    "colab_type": "code",
    "collapsed": true,
    "id": "ZE9nGiEq5mFE"
   },
   "outputs": [],
   "source": [
    "odd_nums = np.array([1,3,5,7,9,11,13])"
   ]
  },
  {
   "cell_type": "code",
   "execution_count": 0,
   "metadata": {
    "colab": {},
    "colab_type": "code",
    "collapsed": true,
    "id": "4wz5jQbq5uQS"
   },
   "outputs": [],
   "source": [
    "### @TODO\n",
    "# Utilizar una ventana de tamaño 2 y obtener el siguiente número impar\n",
    "window_size = 2\n",
    "X,y = ..."
   ]
  },
  {
   "cell_type": "code",
   "execution_count": 0,
   "metadata": {
    "colab": {},
    "colab_type": "code",
    "collapsed": true,
    "id": "SYGfV2mT5wOu"
   },
   "outputs": [],
   "source": [
    "print ('El input X es:')\n",
    "print (X)\n",
    "\n",
    "print ('El output y asociado es:')\n",
    "print (y)\n",
    "\n",
    "print ('El shape de X es ' + str(np.shape(X)))\n",
    "print ('El shape de y es ' + str(np.shape(y)))\n",
    "print('El tipo de X es ' + str(type(X)))\n",
    "print('El tipo de y es ' + str(type(y)))"
   ]
  },
  {
   "cell_type": "markdown",
   "metadata": {
    "colab_type": "text",
    "id": "twP8lefj50wH"
   },
   "source": [
    "Una vez que la función de arriba funcione correctamente, aplicarla con una ventana de tamaño 7 al juego de datos cargados.\n",
    "\n"
   ]
  },
  {
   "cell_type": "code",
   "execution_count": 0,
   "metadata": {
    "colab": {},
    "colab_type": "code",
    "collapsed": true,
    "id": "jp03sQYp5yiy"
   },
   "outputs": [],
   "source": [
    "### @TODO\n",
    "# Definir la variable window_size y usarla al invocar la función window_transform_series\n",
    "window_size = ...\n",
    "X,y = ..."
   ]
  },
  {
   "cell_type": "markdown",
   "metadata": {
    "colab_type": "text",
    "id": "t2BYsK4W56zB"
   },
   "source": [
    "###Parte 3: Separar los datos en datos de entrenamiento y de test\n",
    "Se recomienda separar al menos un tercio de los datos para validación o test. Esto se hace en la celda a continuación.\n",
    "\n",
    "Notar como NO se está haciendo el split randómicamente, lo que es usualmente recomendado. Esto se debe a que los pares de input-output están relacionados temporalmente. Por ende, se entrenará con los dos primeros tercios de los datos y se validará con el último tercio de los mismos. Esto simula el caso de predecir valores futuros de la serie ordenada."
   ]
  },
  {
   "cell_type": "code",
   "execution_count": 0,
   "metadata": {
    "colab": {},
    "colab_type": "code",
    "collapsed": true,
    "id": "V8iZ5rLF53zT"
   },
   "outputs": [],
   "source": [
    "### @TODO\n",
    "# Separar los datos en entrenamiento y test\n",
    "train_test_split = int(np.ceil(2*len(y)/float(3)))   # Definir el punto de separación\n",
    "\n",
    "# Partir los datos\n",
    "X_train = ...\n",
    "y_train = ...\n",
    "\n",
    "# Mantener la última parte para test\n",
    "X_test = ...\n",
    "y_test = ..."
   ]
  },
  {
   "cell_type": "code",
   "execution_count": 0,
   "metadata": {
    "colab": {},
    "colab_type": "code",
    "collapsed": true,
    "id": "WcYCHvJs6EhM"
   },
   "outputs": [],
   "source": [
    "# IMPORTANTE: para utilizar el módulo RNN LSTM de Keras el input debe tener la forma [samples, window size, stepsize]\n",
    "#Estas transformaciones se hacen a continuación\n",
    "X_train = np.asarray(np.reshape(X_train, (X_train.shape[0], window_size, 1)))\n",
    "X_test = np.asarray(np.reshape(X_test, (X_test.shape[0], window_size, 1)))"
   ]
  },
  {
   "cell_type": "markdown",
   "metadata": {
    "colab_type": "text",
    "id": "tJF0hQ606KI-"
   },
   "source": [
    "###Parte 4: Crear y ejecutar un modelo de regresión utilizando RNN\n",
    "\n",
    "Se utilizará Keras para construir una red neuronal con dos capas ocultas RNN con las siguientes especificaciones:\n",
    "\n",
    "* La capa 1 debe usar un módulo LSTM con 5 unidades ocultas (el input_shape de la misma debe ser (window_size,1))\n",
    "* La capa 2 usa un módulo completamente conectado (fully connected) con una unidad\n",
    "* Se debe usar la función de pérdida 'mean_squared_error'\n",
    "\n",
    "Ayudas:\n",
    "\n",
    "* [Documentación general de Keras](https://keras.io/getting-started/sequential-model-guide/)\n",
    "* [Documentación de Keras de LTSM](https://keras.io/layers/recurrent/)\n",
    "* Asegurarse de inicializar el [optimizador recomendado por Keras para RNN](https://keras.io/optimizers/)"
   ]
  },
  {
   "cell_type": "code",
   "execution_count": 0,
   "metadata": {
    "colab": {},
    "colab_type": "code",
    "collapsed": true,
    "id": "q33SHho_6GL0"
   },
   "outputs": [],
   "source": [
    "### @TODO: Crear el modelo RNN\n",
    "# Importar librerías de Keras\n",
    "from keras.models import Sequential\n",
    "from keras.layers import Dense\n",
    "from keras.layers import LSTM\n",
    "import keras\n",
    "\n",
    "#Crear el modelo secuencial\n",
    "model = ...\n",
    "#Agregar una capa LSTM con 5 unidades ocultas y el input shape necesario\n",
    "...\n",
    "#Agregar una capa densa con una unidad\n",
    "...\n",
    "\n",
    "# Crear el modelo utilizando el optimizador recomendado por la documentación de keras\n",
    "optimizer = ...\n",
    "\n",
    "# Compilar el modelo con la función de pérdida requerida\n",
    "..."
   ]
  },
  {
   "cell_type": "markdown",
   "metadata": {
    "colab_type": "text",
    "id": "gd-dZ1ix60lN"
   },
   "source": [
    "Entrenar el modelo con los datos separados para esta función haciendo uso de la función fit.\n",
    "\n",
    "Sugerencia: Investigar y probar con distintos valores de epochs y tamaño de batch. Buscar en la documentación de keras por más información.\n"
   ]
  },
  {
   "cell_type": "code",
   "execution_count": 0,
   "metadata": {
    "colab": {},
    "colab_type": "code",
    "collapsed": true,
    "id": "8gVfdvyk6xaK"
   },
   "outputs": [],
   "source": [
    "### @TODO\n",
    "# Hacer fit"
   ]
  },
  {
   "cell_type": "markdown",
   "metadata": {
    "colab_type": "text",
    "id": "W52-gZHg7BRF"
   },
   "source": [
    "###Parte 5: Medir la performance del modelo\n",
    "Ahora estamos en condiciones de hacer una predicción"
   ]
  },
  {
   "cell_type": "code",
   "execution_count": 0,
   "metadata": {
    "colab": {},
    "colab_type": "code",
    "collapsed": true,
    "id": "-6bFrjyN65zU"
   },
   "outputs": [],
   "source": [
    "### @TODO\n",
    "# Hacer la predicción con el modelo entrenado\n",
    "train_predict = ...\n",
    "test_predict = ..."
   ]
  },
  {
   "cell_type": "markdown",
   "metadata": {
    "colab_type": "text",
    "id": "8VmgFxfR7Ifz"
   },
   "source": [
    "Se debería obtener un error sobre los datos de entrenamiento como de test menor al 2%. Si no se consigue este valor, se puede aumentar el número de epochs y re-entrenar el modelo o ajustar el tamaño del batch. Estudiar en la documentación que otros hiper-parámetros se pueden modificar para mejorar la precisión."
   ]
  },
  {
   "cell_type": "code",
   "execution_count": 0,
   "metadata": {
    "colab": {},
    "colab_type": "code",
    "collapsed": true,
    "id": "mB6rI3UT7HJa"
   },
   "outputs": [],
   "source": [
    "# Medir la precisión\n",
    "training_error = model.evaluate(X_train, y_train, verbose=0)\n",
    "print('Error de entrenamiento = ' + str(training_error))\n",
    "\n",
    "testing_error = model.evaluate(X_test, y_test, verbose=0)\n",
    "print('Error de test = ' + str(testing_error))"
   ]
  },
  {
   "cell_type": "markdown",
   "metadata": {
    "colab_type": "text",
    "id": "Sh6fy9Rv7Pw3"
   },
   "source": [
    "Ahora grafiquemos los datos:"
   ]
  },
  {
   "cell_type": "code",
   "execution_count": 0,
   "metadata": {
    "colab": {},
    "colab_type": "code",
    "collapsed": true,
    "id": "Wk8LtGp-7M5A"
   },
   "outputs": [],
   "source": [
    "import matplotlib.pyplot as plt\n",
    "%matplotlib inline\n",
    "\n",
    "# Graficar serie original\n",
    "plt.plot(dataset,color = 'k')\n",
    "\n",
    "# Graficar la predicción de entrenamiento\n",
    "split_pt = train_test_split + window_size \n",
    "plt.plot(np.arange(window_size,split_pt,1),train_predict,color = 'b')\n",
    "\n",
    "# Graficar la predicción de validación\n",
    "plt.plot(np.arange(split_pt,split_pt + len(test_predict),1),test_predict,color = 'r')\n",
    "\n",
    "# Agregar rótulos\n",
    "plt.xlabel('día')\n",
    "plt.ylabel('Precio de acción de Apple (normalizado)')\n",
    "plt.legend(['Serie original','Predicción de training','Predicción de validación'],loc='center left', bbox_to_anchor=(1, 0.5))\n",
    "plt.show()"
   ]
  },
  {
   "cell_type": "markdown",
   "metadata": {
    "colab_type": "text",
    "id": "rteaX5F97UVa"
   },
   "source": [
    "Nota:[Aquí](https://datamarket.com/data/list/?q=provider%3Atsdl) se pueden encontrar otras series ordenadas con las que probar"
   ]
  }
 ],
 "metadata": {
  "colab": {
   "collapsed_sections": [],
   "name": "Botia_Apple_stock_ejercicio.ipynb",
   "provenance": []
  },
  "kernelspec": {
   "display_name": "Python 3",
   "language": "python",
   "name": "python3"
  },
  "language_info": {
   "codemirror_mode": {
    "name": "ipython",
    "version": 3
   },
   "file_extension": ".py",
   "mimetype": "text/x-python",
   "name": "python",
   "nbconvert_exporter": "python",
   "pygments_lexer": "ipython3",
   "version": "3.6.3"
  }
 },
 "nbformat": 4,
 "nbformat_minor": 1
}
